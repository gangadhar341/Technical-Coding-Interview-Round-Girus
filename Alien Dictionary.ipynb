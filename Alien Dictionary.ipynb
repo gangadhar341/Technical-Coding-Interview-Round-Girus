{
 "cells": [
  {
   "cell_type": "code",
   "execution_count": 1,
   "id": "8b152251",
   "metadata": {},
   "outputs": [],
   "source": [
    "from collections import defaultdict, deque\n",
    "\n",
    "def alien_order(words):\n",
    "    graph = defaultdict(set)\n",
    "    indegree = {c: 0 for word in words for c in word}\n",
    "    for i in range(len(words) - 1):\n",
    "        w1 = words[i]\n",
    "        w2 = words[i + 1]\n",
    "        if w1.startswith(w2) and len(w1) > len(w2):\n",
    "            return \"\"\n",
    "        for c1, c2 in zip(w1, w2):\n",
    "            if c1 != c2:\n",
    "                if c2 not in graph[c1]:\n",
    "                    graph[c1].add(c2)\n",
    "                    indegree[c2] += 1\n",
    "                break\n",
    "    q = deque([c for c in indegree if indegree[c] == 0])\n",
    "    res = []\n",
    "    while q:\n",
    "        c = q.popleft()\n",
    "        res.append(c)\n",
    "        for nei in graph[c]:\n",
    "            indegree[nei] -= 1\n",
    "            if indegree[nei] == 0:\n",
    "                q.append(nei)\n",
    "    if len(res) < len(indegree):\n",
    "        return \"\"\n",
    "    return \"\".join(res)\n"
   ]
  },
  {
   "cell_type": "code",
   "execution_count": 2,
   "id": "dd2a7f97",
   "metadata": {},
   "outputs": [
    {
     "name": "stdout",
     "output_type": "stream",
     "text": [
      "wertf\n"
     ]
    }
   ],
   "source": [
    "words = [\"wrt\", \"wrf\", \"er\", \"ett\", \"rftt\"]\n",
    "print(alien_order(words))"
   ]
  },
  {
   "cell_type": "code",
   "execution_count": null,
   "id": "ece3a939",
   "metadata": {},
   "outputs": [],
   "source": []
  }
 ],
 "metadata": {
  "kernelspec": {
   "display_name": "Python 3 (ipykernel)",
   "language": "python",
   "name": "python3"
  },
  "language_info": {
   "codemirror_mode": {
    "name": "ipython",
    "version": 3
   },
   "file_extension": ".py",
   "mimetype": "text/x-python",
   "name": "python",
   "nbconvert_exporter": "python",
   "pygments_lexer": "ipython3",
   "version": "3.9.7"
  }
 },
 "nbformat": 4,
 "nbformat_minor": 5
}
