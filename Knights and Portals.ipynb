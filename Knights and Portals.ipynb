{
 "cells": [
  {
   "cell_type": "code",
   "execution_count": 1,
   "id": "f0ff3b2b",
   "metadata": {},
   "outputs": [],
   "source": [
    "from collections import deque\n",
    "\n",
    "def shortest_path_with_teleport(grid):\n",
    "    m, n = len(grid), len(grid[0])\n",
    "    dirs = [(0,1),(0,-1),(1,0),(-1,0)]\n",
    "    empty_cells = [(i,j) for i in range(m) for j in range(n) if grid[i][j] == 0]\n",
    "\n",
    "    def bfs(use_teleport):\n",
    "        visited = [[False]*n for _ in range(m)]\n",
    "        visited[0][0] = True\n",
    "        q = deque([(0, 0, 0, use_teleport)])\n",
    "        while q:\n",
    "            x, y, dist, can_tp = q.popleft()\n",
    "            if (x, y) == (m-1, n-1):\n",
    "                return dist\n",
    "            for dx, dy in dirs:\n",
    "                nx, ny = x+dx, y+dy\n",
    "                if 0<=nx<m and 0<=ny<n and not visited[nx][ny] and grid[nx][ny]==0:\n",
    "                    visited[nx][ny] = True\n",
    "                    q.append((nx, ny, dist+1, can_tp))\n",
    "            if can_tp:\n",
    "                for tx, ty in empty_cells:\n",
    "                    if not visited[tx][ty]:\n",
    "                        visited[tx][ty] = True\n",
    "                        q.append((tx, ty, dist+1, False))\n",
    "        return -1\n",
    "\n",
    "    if grid[0][0] == 1 or grid[m-1][n-1] == 1:\n",
    "        return -1\n",
    "    return bfs(True)\n"
   ]
  },
  {
   "cell_type": "code",
   "execution_count": 2,
   "id": "630615e3",
   "metadata": {},
   "outputs": [
    {
     "name": "stdout",
     "output_type": "stream",
     "text": [
      "1\n"
     ]
    }
   ],
   "source": [
    "grid = [\n",
    "    [0, 0, 1],\n",
    "    [1, 0, 1],\n",
    "    [1, 0, 0]\n",
    "]\n",
    "print(shortest_path_with_teleport(grid))\n"
   ]
  },
  {
   "cell_type": "code",
   "execution_count": null,
   "id": "25d05b82",
   "metadata": {},
   "outputs": [],
   "source": []
  }
 ],
 "metadata": {
  "kernelspec": {
   "display_name": "Python 3 (ipykernel)",
   "language": "python",
   "name": "python3"
  },
  "language_info": {
   "codemirror_mode": {
    "name": "ipython",
    "version": 3
   },
   "file_extension": ".py",
   "mimetype": "text/x-python",
   "name": "python",
   "nbconvert_exporter": "python",
   "pygments_lexer": "ipython3",
   "version": "3.9.7"
  }
 },
 "nbformat": 4,
 "nbformat_minor": 5
}
