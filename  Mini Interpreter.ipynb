{
 "cells": [
  {
   "cell_type": "code",
   "execution_count": 1,
   "id": "d6cf6ffa",
   "metadata": {},
   "outputs": [],
   "source": [
    "def mini_interpreter(lines):\n",
    "    env = {}\n",
    "\n",
    "    def eval_expr(expr):\n",
    "        tokens = expr.replace(\"(\", \" ( \").replace(\")\", \" ) \").split()\n",
    "        def parse(tokens):\n",
    "            if not tokens:\n",
    "                return None\n",
    "            token = tokens.pop(0)\n",
    "            if token == \"(\":\n",
    "                sub = []\n",
    "                while tokens[0] != \")\":\n",
    "                    sub.append(parse(tokens))\n",
    "                tokens.pop(0)\n",
    "                return sub\n",
    "            elif token.isdigit() or (token[0] == '-' and token[1:].isdigit()):\n",
    "                return int(token)\n",
    "            elif token in env:\n",
    "                return env[token]\n",
    "            else:\n",
    "                return token\n",
    "        def compute(ast):\n",
    "            if isinstance(ast, int):\n",
    "                return ast\n",
    "            if isinstance(ast, str):\n",
    "                return env.get(ast, 0)\n",
    "            if isinstance(ast, list):\n",
    "                if len(ast) == 3:\n",
    "                    a = compute(ast[0])\n",
    "                    op = ast[1]\n",
    "                    b = compute(ast[2])\n",
    "                    if op == '+': return a + b\n",
    "                    if op == '-': return a - b\n",
    "                    if op == '*': return a * b\n",
    "                    if op == '/': return a // b\n",
    "                    if op == '>': return int(a > b)\n",
    "                    if op == '<': return int(a < b)\n",
    "                    if op == '==': return int(a == b)\n",
    "                elif ast[0] == 'if':\n",
    "                    cond = compute(ast[1])\n",
    "                    return compute(ast[2]) if cond else compute(ast[3])\n",
    "            return 0\n",
    "        return compute(parse(tokens))\n",
    "\n",
    "    for line in lines:\n",
    "        line = line.strip()\n",
    "        if line.startswith(\"let \"):\n",
    "            _, var, _, expr = line.split(\" \", 3)\n",
    "            env[var] = eval_expr(expr)\n",
    "        elif line.startswith(\"if \"):\n",
    "            expr = line\n",
    "            if \"then\" in expr and \"else\" in expr:\n",
    "                expr = expr.replace(\"then\", \"\").replace(\"else\", \"\")\n",
    "                parts = line.split(\"then\")\n",
    "                cond = parts[0][3:].strip()\n",
    "                then_part, else_part = parts[1].split(\"else\")\n",
    "                full = ['if', eval_expr(cond), eval_expr(then_part.strip()), eval_expr(else_part.strip())]\n",
    "                print(full[2] if full[1] else full[3])\n",
    "        else:\n",
    "            print(eval_expr(line))\n"
   ]
  },
  {
   "cell_type": "code",
   "execution_count": 2,
   "id": "dc5db9f3",
   "metadata": {},
   "outputs": [
    {
     "name": "stdout",
     "output_type": "stream",
     "text": [
      "5\n",
      "5\n"
     ]
    }
   ],
   "source": [
    "lines = [\n",
    "    \"let x = 5\",\n",
    "    \"let y = 3\",\n",
    "    \"if x > y then x else y\",  \n",
    "    \"let z = x + y\",\n",
    "    \"z\"                       \n",
    "]\n",
    "\n",
    "mini_interpreter(lines)\n"
   ]
  },
  {
   "cell_type": "code",
   "execution_count": null,
   "id": "93f13b5f",
   "metadata": {},
   "outputs": [],
   "source": []
  }
 ],
 "metadata": {
  "kernelspec": {
   "display_name": "Python 3 (ipykernel)",
   "language": "python",
   "name": "python3"
  },
  "language_info": {
   "codemirror_mode": {
    "name": "ipython",
    "version": 3
   },
   "file_extension": ".py",
   "mimetype": "text/x-python",
   "name": "python",
   "nbconvert_exporter": "python",
   "pygments_lexer": "ipython3",
   "version": "3.9.7"
  }
 },
 "nbformat": 4,
 "nbformat_minor": 5
}
