{
 "cells": [
  {
   "cell_type": "code",
   "execution_count": 1,
   "id": "8a383e34",
   "metadata": {},
   "outputs": [],
   "source": [
    "def is_valid_sudoku(board, zones):\n",
    "    for i in range(9):\n",
    "        row = set()\n",
    "        col = set()\n",
    "        for j in range(9):\n",
    "            if board[i][j] != '.':\n",
    "                if board[i][j] in row:\n",
    "                    return False\n",
    "                row.add(board[i][j])\n",
    "            if board[j][i] != '.':\n",
    "                if board[j][i] in col:\n",
    "                    return False\n",
    "                col.add(board[j][i])\n",
    "    for x in range(0, 9, 3):\n",
    "        for y in range(0, 9, 3):\n",
    "            block = set()\n",
    "            for i in range(3):\n",
    "                for j in range(3):\n",
    "                    val = board[x+i][y+j]\n",
    "                    if val != '.':\n",
    "                        if val in block:\n",
    "                            return False\n",
    "                        block.add(val)\n",
    "    for zone in zones:\n",
    "        zone_set = set()\n",
    "        for x, y in zone:\n",
    "            val = board[x][y]\n",
    "            if val != '.':\n",
    "                if val in zone_set:\n",
    "                    return False\n",
    "                zone_set.add(val)\n",
    "    return True\n"
   ]
  },
  {
   "cell_type": "code",
   "execution_count": 2,
   "id": "65731494",
   "metadata": {},
   "outputs": [
    {
     "name": "stdout",
     "output_type": "stream",
     "text": [
      "True\n"
     ]
    }
   ],
   "source": [
    "board = [\n",
    "    [\"5\",\"3\",\".\",\".\",\"7\",\".\",\".\",\".\",\".\"],\n",
    "    [\"6\",\".\",\".\",\"1\",\"9\",\"5\",\".\",\".\",\".\"],\n",
    "    [\".\",\"9\",\"8\",\".\",\".\",\".\",\".\",\"6\",\".\"],\n",
    "    [\"8\",\".\",\".\",\".\",\"6\",\".\",\".\",\".\",\"3\"],\n",
    "    [\"4\",\".\",\".\",\"8\",\".\",\"3\",\".\",\".\",\"1\"],\n",
    "    [\"7\",\".\",\".\",\".\",\"2\",\".\",\".\",\".\",\"6\"],\n",
    "    [\".\",\"6\",\".\",\".\",\".\",\".\",\"2\",\"8\",\".\"],\n",
    "    [\".\",\".\",\".\",\"4\",\"1\",\"9\",\".\",\".\",\"5\"],\n",
    "    [\".\",\".\",\".\",\".\",\"8\",\".\",\".\",\"7\",\"9\"]\n",
    "]\n",
    "\n",
    "zones = [\n",
    "    [(0,0),(0,1),(0,2),(1,0),(1,1),(1,2),(2,0),(2,1),(2,2)],\n",
    "    [(3,3),(3,4),(3,5),(4,3),(4,4),(4,5),(5,3),(5,4),(5,5)],\n",
    "    [(6,6),(6,7),(6,8),(7,6),(7,7),(7,8),(8,6),(8,7),(8,8)],\n",
    "    [(0,3),(0,4),(0,5),(1,3),(1,4),(1,5),(2,3),(2,4),(2,5)],\n",
    "    [(3,0),(3,1),(3,2),(4,0),(4,1),(4,2),(5,0),(5,1),(5,2)],\n",
    "    [(6,3),(6,4),(6,5),(7,3),(7,4),(7,5),(8,3),(8,4),(8,5)],\n",
    "    [(0,6),(0,7),(0,8),(1,6),(1,7),(1,8),(2,6),(2,7),(2,8)],\n",
    "    [(3,6),(3,7),(3,8),(4,6),(4,7),(4,8),(5,6),(5,7),(5,8)],\n",
    "    [(6,0),(6,1),(6,2),(7,0),(7,1),(7,2),(8,0),(8,1),(8,2)]\n",
    "]\n",
    "\n",
    "print(is_valid_sudoku(board, zones))\n"
   ]
  },
  {
   "cell_type": "code",
   "execution_count": null,
   "id": "25e0f5be",
   "metadata": {},
   "outputs": [],
   "source": []
  }
 ],
 "metadata": {
  "kernelspec": {
   "display_name": "Python 3 (ipykernel)",
   "language": "python",
   "name": "python3"
  },
  "language_info": {
   "codemirror_mode": {
    "name": "ipython",
    "version": 3
   },
   "file_extension": ".py",
   "mimetype": "text/x-python",
   "name": "python",
   "nbconvert_exporter": "python",
   "pygments_lexer": "ipython3",
   "version": "3.9.7"
  }
 },
 "nbformat": 4,
 "nbformat_minor": 5
}
