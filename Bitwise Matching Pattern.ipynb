{
 "cells": [
  {
   "cell_type": "code",
   "execution_count": 1,
   "id": "ed494ffb",
   "metadata": {},
   "outputs": [],
   "source": [
    "def next_higher(n):\n",
    "    c = n\n",
    "    c0 = 0\n",
    "    c1 = 0\n",
    "    while ((c & 1) == 0) and (c != 0):\n",
    "        c0 += 1\n",
    "        c >>= 1\n",
    "    while (c & 1) == 1:\n",
    "        c1 += 1\n",
    "        c >>= 1\n",
    "    if c0 + c1 == 31 or c0 + c1 == 0:\n",
    "        return -1\n",
    "    p = c0 + c1\n",
    "    n |= (1 << p)\n",
    "    n &= ~((1 << p) - 1)\n",
    "    n |= (1 << (c1 - 1)) - 1\n",
    "    return n\n"
   ]
  },
  {
   "cell_type": "code",
   "execution_count": 2,
   "id": "fae24f33",
   "metadata": {},
   "outputs": [
    {
     "name": "stdout",
     "output_type": "stream",
     "text": [
      "83\n"
     ]
    }
   ],
   "source": [
    "n = 78 \n",
    "print(next_higher(n)) \n"
   ]
  },
  {
   "cell_type": "code",
   "execution_count": null,
   "id": "8b53bc70",
   "metadata": {},
   "outputs": [],
   "source": []
  }
 ],
 "metadata": {
  "kernelspec": {
   "display_name": "Python 3 (ipykernel)",
   "language": "python",
   "name": "python3"
  },
  "language_info": {
   "codemirror_mode": {
    "name": "ipython",
    "version": 3
   },
   "file_extension": ".py",
   "mimetype": "text/x-python",
   "name": "python",
   "nbconvert_exporter": "python",
   "pygments_lexer": "ipython3",
   "version": "3.9.7"
  }
 },
 "nbformat": 4,
 "nbformat_minor": 5
}
