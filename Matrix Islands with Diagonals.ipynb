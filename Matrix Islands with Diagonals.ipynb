{
 "cells": [
  {
   "cell_type": "code",
   "execution_count": 3,
   "id": "46b4cbef",
   "metadata": {},
   "outputs": [],
   "source": [
    "def count_islands(grid):\n",
    "    if not grid:\n",
    "        return 0\n",
    "    m, n = len(grid), len(grid[0])\n",
    "    visited = [[False]*n for _ in range(m)]\n",
    "    dirs = [(-1,0),(1,0),(0,-1),(0,1),(-1,-1),(-1,1),(1,-1),(1,1)]\n",
    "\n",
    "    def dfs(x, y):\n",
    "        visited[x][y] = True\n",
    "        for dx, dy in dirs:\n",
    "            nx, ny = x+dx, y+dy\n",
    "            if 0<=nx<m and 0<=ny<n and not visited[nx][ny] and grid[nx][ny]==1:\n",
    "                dfs(nx, ny)\n",
    "\n",
    "    count = 0\n",
    "    for i in range(m):\n",
    "        for j in range(n):\n",
    "            if grid[i][j] == 1 and not visited[i][j]:\n",
    "                dfs(i, j)\n",
    "                count += 1\n",
    "    return count\n"
   ]
  },
  {
   "cell_type": "code",
   "execution_count": 4,
   "id": "721bbe4e",
   "metadata": {},
   "outputs": [
    {
     "name": "stdout",
     "output_type": "stream",
     "text": [
      "2\n"
     ]
    }
   ],
   "source": [
    "grid = [\n",
    "    [1, 1, 0, 0],\n",
    "    [0, 1, 0, 1],\n",
    "    [1, 0, 0, 1],\n",
    "    [0, 0, 1, 1]\n",
    "]\n",
    "print(count_islands(grid))\n"
   ]
  },
  {
   "cell_type": "code",
   "execution_count": null,
   "id": "5b3c5816",
   "metadata": {},
   "outputs": [],
   "source": []
  }
 ],
 "metadata": {
  "kernelspec": {
   "display_name": "Python 3 (ipykernel)",
   "language": "python",
   "name": "python3"
  },
  "language_info": {
   "codemirror_mode": {
    "name": "ipython",
    "version": 3
   },
   "file_extension": ".py",
   "mimetype": "text/x-python",
   "name": "python",
   "nbconvert_exporter": "python",
   "pygments_lexer": "ipython3",
   "version": "3.9.7"
  }
 },
 "nbformat": 4,
 "nbformat_minor": 5
}
